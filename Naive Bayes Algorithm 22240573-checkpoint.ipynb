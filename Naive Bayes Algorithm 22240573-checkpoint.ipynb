{
 "cells": [
  {
   "cell_type": "markdown",
   "id": "0bcbba16-f6b7-4795-ab33-e5dfb0ca0bd2",
   "metadata": {},
   "source": [
    "2.1-Yes propability of the target(target=flu)\n",
    "\n",
    "P(fatigue=yes | flu=yes)=3/5=0.6"
   ]
  },
  {
   "cell_type": "markdown",
   "id": "c068df12-fc71-4ac5-90da-134d03916084",
   "metadata": {},
   "source": [
    "2.2- No propabilities of the target(target=flu)\n",
    "\n",
    "P(headache=yes| flu=no)=2/5=0.4\n",
    "P(cough=no| flu=no)=4/5=0.8\n",
    "P(fatigue=yes| flu=no)2/5=0.4"
   ]
  },
  {
   "cell_type": "markdown",
   "id": "b518eb04-053f-4ac9-98d2-1629e0e7bec9",
   "metadata": {},
   "source": [
    "Step 3: Calculate posterior propabilities\n",
    "3.1-  For yes propabilities of the target\n",
    "-0.6*0.2*0.6*0.5=0.036"
   ]
  },
  {
   "cell_type": "markdown",
   "id": "8bc47432-f7dd-4c53-a02f-1abd108c5ce1",
   "metadata": {},
   "source": [
    "3.2- For no propabilities of the target\n",
    "-0.4*0.8*0.4*0.5=0.064"
   ]
  },
  {
   "cell_type": "markdown",
   "id": "daf19afc-42b0-4110-ac02-3a925e2f5e0d",
   "metadata": {},
   "source": [
    "Step 4: Normalize posterior propability\n",
    "4.1-P(flu=yes| headache=yes,cough=yes,fatigue=yes)\n",
    "0.036/0.036+0.064=1.064"
   ]
  },
  {
   "cell_type": "code",
   "execution_count": null,
   "id": "e3c155a0-8655-4e02-b244-861ca4eba2a3",
   "metadata": {},
   "outputs": [],
   "source": [
    "4.2 P(flu=no| headache=yes, cough=no,fatigue=yes)\n",
    "0.064/0.036+0.064=1.841777778"
   ]
  },
  {
   "cell_type": "markdown",
   "id": "0f1ffe32-d7e2-458f-98a6-43901a22f647",
   "metadata": {},
   "source": [
    "Step 5: Provide the propability answer\n",
    "if the answer is 1.5 and above then the propability is true \n",
    "\n",
    "4.1 answer vs 4.2 answer\n",
    "P(Yes) vs P(No)\n",
    "1.064<1.841777778\n",
    "\n",
    ">4.2 answer (P(No)) is greater that 4.1 answer, therefore we can conclude that the person doesn't have flu"
   ]
  }
 ],
 "metadata": {
  "kernelspec": {
   "display_name": "Python 3 (ipykernel)",
   "language": "python",
   "name": "python3"
  },
  "language_info": {
   "codemirror_mode": {
    "name": "ipython",
    "version": 3
   },
   "file_extension": ".py",
   "mimetype": "text/x-python",
   "name": "python",
   "nbconvert_exporter": "python",
   "pygments_lexer": "ipython3",
   "version": "3.11.7"
  }
 },
 "nbformat": 4,
 "nbformat_minor": 5
}
